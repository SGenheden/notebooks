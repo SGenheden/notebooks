{
 "cells": [
  {
   "cell_type": "markdown",
   "metadata": {},
   "source": [
    "# Are the Swedish party leaders becoming more pessimistic?\n",
    "\n",
    "This is an analysis and re-interpretation of an article in Dagens Nyheter (DN 21/6-2018), where they claim that the leaders of the parties in the Swedish parliment has become more pessimistic in their speeches since 2014. The article is based on a textual analysis of the party leaders speeches and identifies/count words that are associated with a pessimistic world view.\n",
    "\n",
    "We start to import some Python modules that we need. The first one is part of the standard library, whereas the other four a open source projects, commonly used in data analysis. "
   ]
  },
  {
   "cell_type": "code",
   "execution_count": 138,
   "metadata": {
    "collapsed": false
   },
   "outputs": [],
   "source": [
    "from collections import OrderedDict\n",
    "\n",
    "import numpy as np\n",
    "import pandas as pd\n",
    "import matplotlib.pylab as plt\n",
    "import statsmodels.formula.api as smf"
   ]
  },
  {
   "cell_type": "markdown",
   "metadata": {
    "collapsed": false
   },
   "source": [
    "I have manually entered the values of the relative pessimism from the online version of the DN article. Instead of the date for the speeches at Almedalen (which occurs on different days for the different parties), I have simply put 1:st of July. I have also added an index colum, which runs from 1 to 19 (the number of sample points). I can then import the data into this notebook."
   ]
  },
  {
   "cell_type": "code",
   "execution_count": 139,
   "metadata": {
    "collapsed": false
   },
   "outputs": [
    {
     "data": {
      "text/html": [
       "<div>\n",
       "<style scoped>\n",
       "    .dataframe tbody tr th:only-of-type {\n",
       "        vertical-align: middle;\n",
       "    }\n",
       "\n",
       "    .dataframe tbody tr th {\n",
       "        vertical-align: top;\n",
       "    }\n",
       "\n",
       "    .dataframe thead th {\n",
       "        text-align: right;\n",
       "    }\n",
       "</style>\n",
       "<table border=\"1\" class=\"dataframe\">\n",
       "  <thead>\n",
       "    <tr style=\"text-align: right;\">\n",
       "      <th></th>\n",
       "      <th>Idx</th>\n",
       "      <th>S</th>\n",
       "      <th>MP</th>\n",
       "      <th>V</th>\n",
       "      <th>SD</th>\n",
       "      <th>M</th>\n",
       "      <th>KD</th>\n",
       "      <th>L</th>\n",
       "      <th>C</th>\n",
       "    </tr>\n",
       "    <tr>\n",
       "      <th>Datum</th>\n",
       "      <th></th>\n",
       "      <th></th>\n",
       "      <th></th>\n",
       "      <th></th>\n",
       "      <th></th>\n",
       "      <th></th>\n",
       "      <th></th>\n",
       "      <th></th>\n",
       "      <th></th>\n",
       "    </tr>\n",
       "  </thead>\n",
       "  <tbody>\n",
       "    <tr>\n",
       "      <th>2014-01-15</th>\n",
       "      <td>1</td>\n",
       "      <td>0.140</td>\n",
       "      <td>0.110</td>\n",
       "      <td>0.087</td>\n",
       "      <td>0.095</td>\n",
       "      <td>0.126</td>\n",
       "      <td>0.116</td>\n",
       "      <td>0.127</td>\n",
       "      <td>0.098</td>\n",
       "    </tr>\n",
       "    <tr>\n",
       "      <th>2014-06-18</th>\n",
       "      <td>2</td>\n",
       "      <td>0.144</td>\n",
       "      <td>0.095</td>\n",
       "      <td>0.147</td>\n",
       "      <td>0.166</td>\n",
       "      <td>0.136</td>\n",
       "      <td>0.074</td>\n",
       "      <td>0.138</td>\n",
       "      <td>0.055</td>\n",
       "    </tr>\n",
       "    <tr>\n",
       "      <th>2014-07-01</th>\n",
       "      <td>3</td>\n",
       "      <td>0.107</td>\n",
       "      <td>0.179</td>\n",
       "      <td>0.159</td>\n",
       "      <td>0.122</td>\n",
       "      <td>0.095</td>\n",
       "      <td>0.130</td>\n",
       "      <td>0.139</td>\n",
       "      <td>0.123</td>\n",
       "    </tr>\n",
       "    <tr>\n",
       "      <th>2014-10-18</th>\n",
       "      <td>4</td>\n",
       "      <td>0.121</td>\n",
       "      <td>0.087</td>\n",
       "      <td>0.135</td>\n",
       "      <td>0.186</td>\n",
       "      <td>0.064</td>\n",
       "      <td>0.084</td>\n",
       "      <td>0.118</td>\n",
       "      <td>0.112</td>\n",
       "    </tr>\n",
       "    <tr>\n",
       "      <th>2015-01-14</th>\n",
       "      <td>5</td>\n",
       "      <td>0.107</td>\n",
       "      <td>0.128</td>\n",
       "      <td>0.113</td>\n",
       "      <td>0.151</td>\n",
       "      <td>0.148</td>\n",
       "      <td>0.148</td>\n",
       "      <td>0.103</td>\n",
       "      <td>0.110</td>\n",
       "    </tr>\n",
       "    <tr>\n",
       "      <th>2015-06-10</th>\n",
       "      <td>6</td>\n",
       "      <td>0.165</td>\n",
       "      <td>0.118</td>\n",
       "      <td>0.137</td>\n",
       "      <td>0.148</td>\n",
       "      <td>0.146</td>\n",
       "      <td>0.167</td>\n",
       "      <td>0.147</td>\n",
       "      <td>0.108</td>\n",
       "    </tr>\n",
       "    <tr>\n",
       "      <th>2015-07-01</th>\n",
       "      <td>7</td>\n",
       "      <td>0.121</td>\n",
       "      <td>0.120</td>\n",
       "      <td>0.105</td>\n",
       "      <td>0.176</td>\n",
       "      <td>0.105</td>\n",
       "      <td>0.125</td>\n",
       "      <td>0.168</td>\n",
       "      <td>0.139</td>\n",
       "    </tr>\n",
       "    <tr>\n",
       "      <th>2015-10-14</th>\n",
       "      <td>8</td>\n",
       "      <td>0.156</td>\n",
       "      <td>0.116</td>\n",
       "      <td>0.111</td>\n",
       "      <td>0.129</td>\n",
       "      <td>0.157</td>\n",
       "      <td>0.137</td>\n",
       "      <td>0.177</td>\n",
       "      <td>0.133</td>\n",
       "    </tr>\n",
       "    <tr>\n",
       "      <th>2016-01-13</th>\n",
       "      <td>9</td>\n",
       "      <td>0.149</td>\n",
       "      <td>0.089</td>\n",
       "      <td>0.146</td>\n",
       "      <td>0.138</td>\n",
       "      <td>0.103</td>\n",
       "      <td>0.072</td>\n",
       "      <td>0.144</td>\n",
       "      <td>0.096</td>\n",
       "    </tr>\n",
       "    <tr>\n",
       "      <th>2016-06-15</th>\n",
       "      <td>10</td>\n",
       "      <td>0.153</td>\n",
       "      <td>0.114</td>\n",
       "      <td>0.089</td>\n",
       "      <td>0.147</td>\n",
       "      <td>0.102</td>\n",
       "      <td>0.108</td>\n",
       "      <td>0.160</td>\n",
       "      <td>0.155</td>\n",
       "    </tr>\n",
       "    <tr>\n",
       "      <th>2016-07-01</th>\n",
       "      <td>11</td>\n",
       "      <td>0.118</td>\n",
       "      <td>0.111</td>\n",
       "      <td>0.149</td>\n",
       "      <td>0.171</td>\n",
       "      <td>0.167</td>\n",
       "      <td>0.142</td>\n",
       "      <td>0.138</td>\n",
       "      <td>0.164</td>\n",
       "    </tr>\n",
       "    <tr>\n",
       "      <th>2016-10-12</th>\n",
       "      <td>12</td>\n",
       "      <td>0.133</td>\n",
       "      <td>0.120</td>\n",
       "      <td>0.141</td>\n",
       "      <td>0.163</td>\n",
       "      <td>0.163</td>\n",
       "      <td>0.091</td>\n",
       "      <td>0.130</td>\n",
       "      <td>0.101</td>\n",
       "    </tr>\n",
       "    <tr>\n",
       "      <th>2017-01-11</th>\n",
       "      <td>13</td>\n",
       "      <td>0.173</td>\n",
       "      <td>0.116</td>\n",
       "      <td>0.141</td>\n",
       "      <td>0.129</td>\n",
       "      <td>0.158</td>\n",
       "      <td>0.084</td>\n",
       "      <td>0.161</td>\n",
       "      <td>0.129</td>\n",
       "    </tr>\n",
       "    <tr>\n",
       "      <th>2017-06-14</th>\n",
       "      <td>14</td>\n",
       "      <td>0.125</td>\n",
       "      <td>0.131</td>\n",
       "      <td>0.101</td>\n",
       "      <td>0.149</td>\n",
       "      <td>0.140</td>\n",
       "      <td>0.129</td>\n",
       "      <td>0.139</td>\n",
       "      <td>0.167</td>\n",
       "    </tr>\n",
       "    <tr>\n",
       "      <th>2017-07-01</th>\n",
       "      <td>15</td>\n",
       "      <td>0.102</td>\n",
       "      <td>0.109</td>\n",
       "      <td>0.170</td>\n",
       "      <td>0.246</td>\n",
       "      <td>0.171</td>\n",
       "      <td>0.151</td>\n",
       "      <td>0.152</td>\n",
       "      <td>0.157</td>\n",
       "    </tr>\n",
       "    <tr>\n",
       "      <th>2017-10-11</th>\n",
       "      <td>16</td>\n",
       "      <td>0.180</td>\n",
       "      <td>0.130</td>\n",
       "      <td>0.087</td>\n",
       "      <td>0.128</td>\n",
       "      <td>0.190</td>\n",
       "      <td>0.108</td>\n",
       "      <td>0.203</td>\n",
       "      <td>0.143</td>\n",
       "    </tr>\n",
       "    <tr>\n",
       "      <th>2018-01-17</th>\n",
       "      <td>17</td>\n",
       "      <td>0.131</td>\n",
       "      <td>0.150</td>\n",
       "      <td>0.147</td>\n",
       "      <td>0.144</td>\n",
       "      <td>0.193</td>\n",
       "      <td>0.131</td>\n",
       "      <td>0.179</td>\n",
       "      <td>0.146</td>\n",
       "    </tr>\n",
       "    <tr>\n",
       "      <th>2018-06-13</th>\n",
       "      <td>18</td>\n",
       "      <td>0.148</td>\n",
       "      <td>0.203</td>\n",
       "      <td>0.132</td>\n",
       "      <td>0.169</td>\n",
       "      <td>0.146</td>\n",
       "      <td>0.116</td>\n",
       "      <td>0.122</td>\n",
       "      <td>0.119</td>\n",
       "    </tr>\n",
       "    <tr>\n",
       "      <th>2018-07-01</th>\n",
       "      <td>19</td>\n",
       "      <td>0.119</td>\n",
       "      <td>0.152</td>\n",
       "      <td>0.107</td>\n",
       "      <td>0.167</td>\n",
       "      <td>0.157</td>\n",
       "      <td>0.136</td>\n",
       "      <td>0.103</td>\n",
       "      <td>0.149</td>\n",
       "    </tr>\n",
       "  </tbody>\n",
       "</table>\n",
       "</div>"
      ],
      "text/plain": [
       "            Idx      S     MP      V     SD      M     KD      L      C\n",
       "Datum                                                                  \n",
       "2014-01-15    1  0.140  0.110  0.087  0.095  0.126  0.116  0.127  0.098\n",
       "2014-06-18    2  0.144  0.095  0.147  0.166  0.136  0.074  0.138  0.055\n",
       "2014-07-01    3  0.107  0.179  0.159  0.122  0.095  0.130  0.139  0.123\n",
       "2014-10-18    4  0.121  0.087  0.135  0.186  0.064  0.084  0.118  0.112\n",
       "2015-01-14    5  0.107  0.128  0.113  0.151  0.148  0.148  0.103  0.110\n",
       "2015-06-10    6  0.165  0.118  0.137  0.148  0.146  0.167  0.147  0.108\n",
       "2015-07-01    7  0.121  0.120  0.105  0.176  0.105  0.125  0.168  0.139\n",
       "2015-10-14    8  0.156  0.116  0.111  0.129  0.157  0.137  0.177  0.133\n",
       "2016-01-13    9  0.149  0.089  0.146  0.138  0.103  0.072  0.144  0.096\n",
       "2016-06-15   10  0.153  0.114  0.089  0.147  0.102  0.108  0.160  0.155\n",
       "2016-07-01   11  0.118  0.111  0.149  0.171  0.167  0.142  0.138  0.164\n",
       "2016-10-12   12  0.133  0.120  0.141  0.163  0.163  0.091  0.130  0.101\n",
       "2017-01-11   13  0.173  0.116  0.141  0.129  0.158  0.084  0.161  0.129\n",
       "2017-06-14   14  0.125  0.131  0.101  0.149  0.140  0.129  0.139  0.167\n",
       "2017-07-01   15  0.102  0.109  0.170  0.246  0.171  0.151  0.152  0.157\n",
       "2017-10-11   16  0.180  0.130  0.087  0.128  0.190  0.108  0.203  0.143\n",
       "2018-01-17   17  0.131  0.150  0.147  0.144  0.193  0.131  0.179  0.146\n",
       "2018-06-13   18  0.148  0.203  0.132  0.169  0.146  0.116  0.122  0.119\n",
       "2018-07-01   19  0.119  0.152  0.107  0.167  0.157  0.136  0.103  0.149"
      ]
     },
     "execution_count": 139,
     "metadata": {},
     "output_type": "execute_result"
    }
   ],
   "source": [
    "df=pd.read_csv('pessimism.dat', parse_dates=True, index_col=\"Datum\")\n",
    "df"
   ]
  },
  {
   "cell_type": "markdown",
   "metadata": {},
   "source": [
    "I will now create a linear regression model to identify any trends in the relative pessimism. As my independent variable I will choose the index column, i.e. I will replace the dates with an ordinal number. There are of course many ways to do this, but I think this is the closest to what they have done in the DN article. \n",
    "\n",
    "From the regression models I will specifially save the slope, the p-value of the slope, the correlation coefficient and the p-value of the regression model."
   ]
  },
  {
   "cell_type": "code",
   "execution_count": 140,
   "metadata": {
    "collapsed": false
   },
   "outputs": [
    {
     "data": {
      "text/html": [
       "<div>\n",
       "<style scoped>\n",
       "    .dataframe tbody tr th:only-of-type {\n",
       "        vertical-align: middle;\n",
       "    }\n",
       "\n",
       "    .dataframe tbody tr th {\n",
       "        vertical-align: top;\n",
       "    }\n",
       "\n",
       "    .dataframe thead th {\n",
       "        text-align: right;\n",
       "    }\n",
       "</style>\n",
       "<table border=\"1\" class=\"dataframe\">\n",
       "  <thead>\n",
       "    <tr style=\"text-align: right;\">\n",
       "      <th></th>\n",
       "      <th>Rows</th>\n",
       "      <th>S</th>\n",
       "      <th>MP</th>\n",
       "      <th>V</th>\n",
       "      <th>SD</th>\n",
       "      <th>M</th>\n",
       "      <th>KD</th>\n",
       "      <th>L</th>\n",
       "      <th>C</th>\n",
       "    </tr>\n",
       "  </thead>\n",
       "  <tbody>\n",
       "    <tr>\n",
       "      <th>0</th>\n",
       "      <td>Slope</td>\n",
       "      <td>0.000454</td>\n",
       "      <td>0.002232</td>\n",
       "      <td>0.0</td>\n",
       "      <td>0.001609</td>\n",
       "      <td>0.003732</td>\n",
       "      <td>0.000675</td>\n",
       "      <td>0.000944</td>\n",
       "      <td>0.003093</td>\n",
       "    </tr>\n",
       "    <tr>\n",
       "      <th>1</th>\n",
       "      <td>p-val (slope)</td>\n",
       "      <td>0.646239</td>\n",
       "      <td>0.063884</td>\n",
       "      <td>1.0</td>\n",
       "      <td>0.231819</td>\n",
       "      <td>0.004587</td>\n",
       "      <td>0.569974</td>\n",
       "      <td>0.400382</td>\n",
       "      <td>0.005338</td>\n",
       "    </tr>\n",
       "    <tr>\n",
       "      <th>2</th>\n",
       "      <td>R2</td>\n",
       "      <td>0.012681</td>\n",
       "      <td>0.187705</td>\n",
       "      <td>0.0</td>\n",
       "      <td>0.082945</td>\n",
       "      <td>0.385025</td>\n",
       "      <td>0.019359</td>\n",
       "      <td>0.041931</td>\n",
       "      <td>0.374753</td>\n",
       "    </tr>\n",
       "    <tr>\n",
       "      <th>3</th>\n",
       "      <td>p-value (model)</td>\n",
       "      <td>0.646239</td>\n",
       "      <td>0.063884</td>\n",
       "      <td>1.0</td>\n",
       "      <td>0.231819</td>\n",
       "      <td>0.004587</td>\n",
       "      <td>0.569974</td>\n",
       "      <td>0.400382</td>\n",
       "      <td>0.005338</td>\n",
       "    </tr>\n",
       "  </tbody>\n",
       "</table>\n",
       "</div>"
      ],
      "text/plain": [
       "              Rows         S        MP    V        SD         M        KD  \\\n",
       "0            Slope  0.000454  0.002232  0.0  0.001609  0.003732  0.000675   \n",
       "1    p-val (slope)  0.646239  0.063884  1.0  0.231819  0.004587  0.569974   \n",
       "2               R2  0.012681  0.187705  0.0  0.082945  0.385025  0.019359   \n",
       "3  p-value (model)  0.646239  0.063884  1.0  0.231819  0.004587  0.569974   \n",
       "\n",
       "          L         C  \n",
       "0  0.000944  0.003093  \n",
       "1  0.400382  0.005338  \n",
       "2  0.041931  0.374753  \n",
       "3  0.400382  0.005338  "
      ]
     },
     "execution_count": 140,
     "metadata": {},
     "output_type": "execute_result"
    }
   ],
   "source": [
    "models = {}\n",
    "results = {}\n",
    "saved_results = OrderedDict()\n",
    "saved_results[\"Rows\"] = [\"Slope\", \"p-val (slope)\", \"R2\", \"p-value (model)\"] \n",
    "for party in \"S MP V SD M KD L C\".split():\n",
    "    models[party] = smf.ols(\"{} ~ Idx\".format(party), data=df)\n",
    "    results[party] = models[party].fit()\n",
    "    saved_results[party] = [results[party].params[1], results[party].pvalues[1],\n",
    "                           results[party].rsquared, results[party].f_pvalue]\n",
    "pd.DataFrame.from_dict(saved_results)"
   ]
  },
  {
   "cell_type": "markdown",
   "metadata": {},
   "source": [
    "We can see that the slope is small for all parties. And only for M, the slope is significant at the 95% confidence interval, although it is a matter of judgement. The correlation coefficients are also weak, indicating that there is no strong correlation between time and pessimism. \n",
    "\n",
    "To obtain a feeling for the magnitude of the slope, we can do some simple calculations for the most extreme party (M) and for the average party (SD)."
   ]
  },
  {
   "cell_type": "code",
   "execution_count": 141,
   "metadata": {
    "collapsed": false
   },
   "outputs": [
    {
     "name": "stdout",
     "output_type": "stream",
     "text": [
      "\tIncrease from 2014\tPessimism in 2022\n",
      "M\t              1.63\t           0.2449\n",
      "SD\t              1.21\t           0.1989\n"
     ]
    }
   ],
   "source": [
    "m_trend=results['M'].params[0] + results['M'].params[1]*df['Idx']\n",
    "m_trend_2022=results['M'].params[0] + results['M'].params[1]*(19*2)\n",
    "sd_trend=results['SD'].params[0] + results['SD'].params[1]*df['Idx']\n",
    "sd_trend_2022=results['SD'].params[0] + results['SD'].params[1]*(19*2)\n",
    "print(\"\\tIncrease from 2014\\tPessimism in 2022\")\n",
    "print(\"M\\t{0:18.2f}\\t{1:17.4f}\".format(m_trend[-1] / m_trend[0], m_trend_2022))\n",
    "print(\"SD\\t{0:18.2f}\\t{1:17.4f}\".format(sd_trend[-1] / sd_trend[0], sd_trend_2022))"
   ]
  },
  {
   "cell_type": "markdown",
   "metadata": {},
   "source": [
    "# Visualization\n",
    "\n",
    "The code below closley reproduces the plot for Socialdemokraterna (S) as presented in the DN article. It shows the scatter of the pessimism and the trend line of the regression model. From a layman's view it appears that the black trendline indicates that the pessimism has increased between 2014 and 2018"
   ]
  },
  {
   "cell_type": "code",
   "execution_count": 142,
   "metadata": {
    "collapsed": false
   },
   "outputs": [
    {
     "data": {
      "image/png": "[encoded data removed]",
      "text/plain": [
       "<matplotlib.figure.Figure at 0x11d3f0a90>"
      ]
     },
     "metadata": {},
     "output_type": "display_data"
    }
   ],
   "source": [
    "width, height = plt.figaspect(1.6)\n",
    "f = plt.figure(figsize=(width*0.8,height*0.8), dpi=400)\n",
    "f.gca().plot(df['Idx'], df['S'], color='r')\n",
    "f.gca().plot(df['Idx'], results['S'].params[0] + results['S'].params[1]*df['Idx'], color='k', linewidth=5)\n",
    "f.gca().fill_between(df['Idx'], 0, df['S'], color='r')\n",
    "f.gca().spines['top'].set_visible(False)\n",
    "f.gca().spines['right'].set_visible(False)\n",
    "f.gca().tick_params(top='off', right='off')\n",
    "f.gca().set_xticks(df['Idx'][::4])\n",
    "f.gca().set_xticklabels(df.index.year[::4], rotation=45)\n",
    "f.gca().set_ylabel(\"Relativ pessimism\")\n",
    "plt.show()"
   ]
  },
  {
   "cell_type": "markdown",
   "metadata": {},
   "source": [
    "This is the same plot, but the aspect ratio is different. The slope of the trend line seems to be smaller."
   ]
  },
  {
   "cell_type": "code",
   "execution_count": 143,
   "metadata": {
    "collapsed": false
   },
   "outputs": [
    {
     "data": {
      "image/png": "[encoded data removed]",
      "text/plain": [
       "<matplotlib.figure.Figure at 0x11cabd3c8>"
      ]
     },
     "metadata": {},
     "output_type": "display_data"
    }
   ],
   "source": [
    "width, height = plt.figaspect(0.4)\n",
    "f = plt.figure(dpi=400)\n",
    "f.gca().plot(df['Idx'], df['S'], color='r')\n",
    "f.gca().plot(df['Idx'], results['S'].params[0] + results['S'].params[1]*df['Idx'], color='k', linewidth=5)\n",
    "f.gca().fill_between(df['Idx'], 0, df['S'], color='r')\n",
    "f.gca().spines['top'].set_visible(False)\n",
    "f.gca().spines['right'].set_visible(False)\n",
    "f.gca().tick_params(top='off', right='off')\n",
    "f.gca().set_xticks(df['Idx'][::4])\n",
    "f.gca().set_xticklabels(df.index.year[::4])\n",
    "f.gca().set_ylabel(\"Relativ pessimism\")\n",
    "plt.show()"
   ]
  },
  {
   "cell_type": "markdown",
   "metadata": {},
   "source": [
    "And this finally shows the plot as a simple scatter plot, similarly to how it was presented in the online version of the DN article. It is hard to judge by eye if there has been an increase in the pessimism. "
   ]
  },
  {
   "cell_type": "code",
   "execution_count": 144,
   "metadata": {
    "collapsed": false
   },
   "outputs": [
    {
     "data": {
      "image/png": "[encoded data removed]",
      "text/plain": [
       "<matplotlib.figure.Figure at 0x11d3e3a20>"
      ]
     },
     "metadata": {},
     "output_type": "display_data"
    }
   ],
   "source": [
    "f = plt.figure(dpi=400)\n",
    "f.gca().plot(df['Idx'], df['S'], color='r')\n",
    "f.gca().spines['top'].set_visible(False)\n",
    "f.gca().spines['right'].set_visible(False)\n",
    "f.gca().tick_params(top='off', right='off')\n",
    "f.gca().set_xticks(df['Idx'][::4])\n",
    "f.gca().set_xticklabels(df.index.year[::4])\n",
    "f.gca().set_ylabel(\"Relativ pessimism\")\n",
    "plt.show()"
   ]
  },
  {
   "cell_type": "markdown",
   "metadata": {},
   "source": [
    "# Moderaterna\n",
    "\n",
    "Below I have plotted the relative pessimism for M and I have marked to date when they elected a new chair (or rather the first date after his inauguration). "
   ]
  },
  {
   "cell_type": "code",
   "execution_count": 145,
   "metadata": {
    "collapsed": false
   },
   "outputs": [
    {
     "data": {
      "image/png": "[encoded data removed]",
      "text/plain": [
       "<matplotlib.figure.Figure at 0x11d34bd30>"
      ]
     },
     "metadata": {},
     "output_type": "display_data"
    }
   ],
   "source": [
    "f = plt.figure(dpi=400)\n",
    "f.gca().plot(df['Idx'], df['M'], color='b')\n",
    "f.gca().plot((df['Idx'][-4], df['Idx'][-4]), (0.07,0.19), '--k')\n",
    "f.gca().spines['top'].set_visible(False)\n",
    "f.gca().spines['right'].set_visible(False)\n",
    "f.gca().tick_params(top='off', right='off')\n",
    "f.gca().set_xticks(df['Idx'][::4])\n",
    "f.gca().set_xticklabels(df.index.year[::4])\n",
    "f.gca().set_ylabel(\"Relativ pessimism\")\n",
    "plt.show()"
   ]
  },
  {
   "cell_type": "markdown",
   "metadata": {},
   "source": [
    "I will create a new regression model for M using only the samples with their old chair. This is to illustrate that the baseline for the two party chairs might be different and hence it is not correct to use a single regression model for the two of them. Then I will also exclude the last point from that data as well, just to prove a point about sample size. "
   ]
  },
  {
   "cell_type": "code",
   "execution_count": 146,
   "metadata": {
    "collapsed": false
   },
   "outputs": [
    {
     "name": "stdout",
     "output_type": "stream",
     "text": [
      "             slope\t p-value of slope\n",
      "           0.00363\t          0.05054\n",
      "           0.00319\t          0.12352\n"
     ]
    }
   ],
   "source": [
    "model_akb0 = smf.ols(\"M ~ Idx\", data=df[:-4])\n",
    "results_akb0 = model_akb0.fit()\n",
    "model_akb1 = smf.ols(\"M ~ Idx\", data=df[:-5])\n",
    "results_akb1 = model_akb1.fit()\n",
    "print(\"{0:>18}\\t{1:>17}\".format(\"slope\",\"p-value of slope\"))\n",
    "print(\"{0:18.5f}\\t{1:17.5f}\".format(results_akb0.params[1], results_akb0.pvalues[1]))\n",
    "print(\"{0:18.5f}\\t{1:17.5f}\".format(results_akb1.params[1], results_akb1.pvalues[1]))"
   ]
  },
  {
   "cell_type": "code",
   "execution_count": null,
   "metadata": {
    "collapsed": true
   },
   "outputs": [],
   "source": []
  }
 ],
 "metadata": {
  "anaconda-cloud": {},
  "kernelspec": {
   "display_name": "Python [conda env:py35]",
   "language": "python",
   "name": "conda-env-py35-py"
  },
  "language_info": {
   "codemirror_mode": {
    "name": "ipython",
    "version": 3
   },
   "file_extension": ".py",
   "mimetype": "text/x-python",
   "name": "python",
   "nbconvert_exporter": "python",
   "pygments_lexer": "ipython3",
   "version": "3.5.2"
  }
 },
 "nbformat": 4,
 "nbformat_minor": 1
}
